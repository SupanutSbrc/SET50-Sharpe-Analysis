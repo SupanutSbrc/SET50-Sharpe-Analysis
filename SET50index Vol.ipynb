{
 "cells": [
  {
   "cell_type": "code",
   "execution_count": 1,
   "metadata": {},
   "outputs": [],
   "source": [
    "from tvDatafeed import TvDatafeed, Interval\n",
    "import pandas as pd\n",
    "import numpy as np\n",
    "from math import sqrt"
   ]
  },
  {
   "cell_type": "markdown",
   "metadata": {},
   "source": [
    "Load Data"
   ]
  },
  {
   "cell_type": "code",
   "execution_count": 2,
   "metadata": {},
   "outputs": [
    {
     "name": "stderr",
     "output_type": "stream",
     "text": [
      "you are using nologin method, data you access may be limited\n"
     ]
    }
   ],
   "source": [
    "tv = TvDatafeed()\n",
    "\n",
    "df = tv.get_hist(symbol='SET:SET50', exchange='SET', interval=Interval.in_daily, n_bars=4500)"
   ]
  },
  {
   "cell_type": "markdown",
   "metadata": {},
   "source": [
    "Unit Root Test"
   ]
  },
  {
   "cell_type": "code",
   "execution_count": 3,
   "metadata": {},
   "outputs": [
    {
     "name": "stdout",
     "output_type": "stream",
     "text": [
      "0.41713590639351056\n"
     ]
    }
   ],
   "source": [
    "from statsmodels.tsa.stattools import adfuller\n",
    "result = adfuller(df['close'], autolag='BIC')\n",
    "print(result[1])"
   ]
  },
  {
   "cell_type": "code",
   "execution_count": 4,
   "metadata": {},
   "outputs": [
    {
     "name": "stdout",
     "output_type": "stream",
     "text": [
      "{'1%': -3.431804978127318, '5%': -2.862182927172891, '10%': -2.567112233631009}\n",
      "-45.81268627294295\n",
      "0.0\n"
     ]
    }
   ],
   "source": [
    "returns = np.log(df['close']).diff().dropna() #1st difference\n",
    "\n",
    "result = adfuller(returns, autolag='BIC')\n",
    "print(result[4])\n",
    "print(result[0])\n",
    "print(result[1])"
   ]
  },
  {
   "cell_type": "markdown",
   "metadata": {},
   "source": [
    "Train-Test Split"
   ]
  },
  {
   "cell_type": "code",
   "execution_count": 5,
   "metadata": {},
   "outputs": [],
   "source": [
    "returns_train, returns_test= returns[:-120], returns[-120:]"
   ]
  },
  {
   "cell_type": "markdown",
   "metadata": {},
   "source": [
    "Methods tried"
   ]
  },
  {
   "cell_type": "code",
   "execution_count": 6,
   "metadata": {},
   "outputs": [
    {
     "name": "stdout",
     "output_type": "stream",
     "text": [
      "<bound method ARCHModelResult.summary of                      Constant Mean - GARCH Model Results                      \n",
      "==============================================================================\n",
      "Dep. Variable:                  close   R-squared:                       0.000\n",
      "Mean Model:             Constant Mean   Adj. R-squared:                  0.000\n",
      "Vol Model:                      GARCH   Log-Likelihood:                13484.9\n",
      "Distribution:                  Normal   AIC:                          -26961.8\n",
      "Method:            Maximum Likelihood   BIC:                          -26936.3\n",
      "                                        No. Observations:                 4379\n",
      "Date:                Wed, Apr 24 2024   Df Residuals:                     4378\n",
      "Time:                        16:35:39   Df Model:                            1\n",
      "                                 Mean Model                                 \n",
      "============================================================================\n",
      "                 coef    std err          t      P>|t|      95.0% Conf. Int.\n",
      "----------------------------------------------------------------------------\n",
      "mu         4.3810e-04  1.033e-05     42.418      0.000 [4.179e-04,4.583e-04]\n",
      "                              Volatility Model                              \n",
      "============================================================================\n",
      "                 coef    std err          t      P>|t|      95.0% Conf. Int.\n",
      "----------------------------------------------------------------------------\n",
      "omega      3.5931e-06  8.753e-12  4.105e+05      0.000 [3.593e-06,3.593e-06]\n",
      "alpha[1]       0.1000  1.587e-02      6.303  2.928e-10   [6.890e-02,  0.131]\n",
      "beta[1]        0.8800  2.102e-02     41.865      0.000     [  0.839,  0.921]\n",
      "============================================================================\n",
      "\n",
      "Covariance estimator: robust\n",
      "ARCHModelResult, id: 0x216adc73950>\n"
     ]
    },
    {
     "name": "stderr",
     "output_type": "stream",
     "text": [
      "c:\\Users\\Inv_edg\\AppData\\Local\\Programs\\Python\\Python312\\Lib\\site-packages\\arch\\univariate\\base.py:311: DataScaleWarning: y is poorly scaled, which may affect convergence of the optimizer when\n",
      "estimating the model parameters. The scale of y is 0.0001796. Parameter\n",
      "estimation work better when this value is between 1 and 1000. The recommended\n",
      "rescaling is 100 * y.\n",
      "\n",
      "This warning can be disabled by either rescaling y before initializing the\n",
      "model or by setting rescale=False.\n",
      "\n",
      "  warnings.warn(\n"
     ]
    }
   ],
   "source": [
    "from arch import arch_model\n",
    "garch_model_fit = arch_model(returns_train,vol=\"Garch\",p=1,q=1).fit(disp='off')\n",
    "print(garch_model_fit.summary)"
   ]
  },
  {
   "cell_type": "code",
   "execution_count": 7,
   "metadata": {},
   "outputs": [
    {
     "name": "stdout",
     "output_type": "stream",
     "text": [
      "<bound method ARCHModelResult.summary of                       Constant Mean - ARCH Model Results                      \n",
      "==============================================================================\n",
      "Dep. Variable:                  close   R-squared:                       0.000\n",
      "Mean Model:             Constant Mean   Adj. R-squared:                  0.000\n",
      "Vol Model:                       ARCH   Log-Likelihood:                13025.4\n",
      "Distribution:                  Normal   AIC:                          -26044.7\n",
      "Method:            Maximum Likelihood   BIC:                          -26025.6\n",
      "                                        No. Observations:                 4379\n",
      "Date:                Wed, Apr 24 2024   Df Residuals:                     4378\n",
      "Time:                        16:35:39   Df Model:                            1\n",
      "                                  Mean Model                                 \n",
      "=============================================================================\n",
      "                 coef    std err          t      P>|t|       95.0% Conf. Int.\n",
      "-----------------------------------------------------------------------------\n",
      "mu         4.4353e-04  2.284e-04      1.942  5.214e-02 [-4.104e-06,8.912e-04]\n",
      "                              Volatility Model                              \n",
      "============================================================================\n",
      "                 coef    std err          t      P>|t|      95.0% Conf. Int.\n",
      "----------------------------------------------------------------------------\n",
      "omega      1.0779e-04  6.816e-06     15.813  2.530e-56 [9.443e-05,1.211e-04]\n",
      "alpha[1]       0.4000  7.243e-02      5.523  3.341e-08     [  0.258,  0.542]\n",
      "============================================================================\n",
      "\n",
      "Covariance estimator: robust\n",
      "ARCHModelResult, id: 0x216adccb230>\n"
     ]
    },
    {
     "name": "stderr",
     "output_type": "stream",
     "text": [
      "c:\\Users\\Inv_edg\\AppData\\Local\\Programs\\Python\\Python312\\Lib\\site-packages\\arch\\univariate\\base.py:311: DataScaleWarning: y is poorly scaled, which may affect convergence of the optimizer when\n",
      "estimating the model parameters. The scale of y is 0.0001796. Parameter\n",
      "estimation work better when this value is between 1 and 1000. The recommended\n",
      "rescaling is 100 * y.\n",
      "\n",
      "This warning can be disabled by either rescaling y before initializing the\n",
      "model or by setting rescale=False.\n",
      "\n",
      "  warnings.warn(\n"
     ]
    }
   ],
   "source": [
    "arch_model_fit = arch_model(returns_train,vol=\"ARCH\").fit(disp='off')\n",
    "print(arch_model_fit.summary)"
   ]
  },
  {
   "cell_type": "code",
   "execution_count": 8,
   "metadata": {},
   "outputs": [
    {
     "name": "stdout",
     "output_type": "stream",
     "text": [
      "<bound method ARCHModelResult.summary of                    Constant Mean - GJR-GARCH Model Results                    \n",
      "==============================================================================\n",
      "Dep. Variable:                  close   R-squared:                       0.000\n",
      "Mean Model:             Constant Mean   Adj. R-squared:                  0.000\n",
      "Vol Model:                  GJR-GARCH   Log-Likelihood:                13516.8\n",
      "Distribution:                  Normal   AIC:                          -27023.6\n",
      "Method:            Maximum Likelihood   BIC:                          -26991.7\n",
      "                                        No. Observations:                 4379\n",
      "Date:                Wed, Apr 24 2024   Df Residuals:                     4378\n",
      "Time:                        16:35:39   Df Model:                            1\n",
      "                                  Mean Model                                 \n",
      "=============================================================================\n",
      "                 coef    std err          t      P>|t|       95.0% Conf. Int.\n",
      "-----------------------------------------------------------------------------\n",
      "mu         3.1344e-04  2.149e-04      1.459      0.145 [-1.077e-04,7.346e-04]\n",
      "                              Volatility Model                              \n",
      "============================================================================\n",
      "                 coef    std err          t      P>|t|      95.0% Conf. Int.\n",
      "----------------------------------------------------------------------------\n",
      "omega      3.5929e-06  5.490e-12  6.544e+05      0.000 [3.593e-06,3.593e-06]\n",
      "alpha[1]       0.0500  9.074e-03      5.511  3.578e-08 [3.222e-02,6.778e-02]\n",
      "gamma[1]       0.1000  2.663e-02      3.755  1.735e-04   [4.780e-02,  0.152]\n",
      "beta[1]        0.8800  2.353e-03    373.982      0.000     [  0.875,  0.885]\n",
      "============================================================================\n",
      "\n",
      "Covariance estimator: robust\n",
      "ARCHModelResult, id: 0x216adcca060>\n"
     ]
    },
    {
     "name": "stderr",
     "output_type": "stream",
     "text": [
      "c:\\Users\\Inv_edg\\AppData\\Local\\Programs\\Python\\Python312\\Lib\\site-packages\\arch\\univariate\\base.py:311: DataScaleWarning: y is poorly scaled, which may affect convergence of the optimizer when\n",
      "estimating the model parameters. The scale of y is 0.0001796. Parameter\n",
      "estimation work better when this value is between 1 and 1000. The recommended\n",
      "rescaling is 100 * y.\n",
      "\n",
      "This warning can be disabled by either rescaling y before initializing the\n",
      "model or by setting rescale=False.\n",
      "\n",
      "  warnings.warn(\n"
     ]
    }
   ],
   "source": [
    "gjr_garch_model_fit = arch_model(returns_train,p=1,o=1,q=1).fit(disp='off')\n",
    "print(gjr_garch_model_fit.summary)"
   ]
  },
  {
   "cell_type": "code",
   "execution_count": 9,
   "metadata": {},
   "outputs": [
    {
     "name": "stdout",
     "output_type": "stream",
     "text": [
      "<bound method ARCHModelResult.summary of                      Constant Mean - HARCH Model Results                      \n",
      "==============================================================================\n",
      "Dep. Variable:                  close   R-squared:                       0.000\n",
      "Mean Model:             Constant Mean   Adj. R-squared:                  0.000\n",
      "Vol Model:                      HARCH   Log-Likelihood:                10731.2\n",
      "Distribution:                  Normal   AIC:                          -21456.4\n",
      "Method:            Maximum Likelihood   BIC:                          -21437.3\n",
      "                                        No. Observations:                 4379\n",
      "Date:                Wed, Apr 24 2024   Df Residuals:                     4378\n",
      "Time:                        16:35:39   Df Model:                            1\n",
      "                                  Mean Model                                 \n",
      "=============================================================================\n",
      "                 coef    std err          t      P>|t|       95.0% Conf. Int.\n",
      "-----------------------------------------------------------------------------\n",
      "mu         1.1376e-04  8.397e-04      0.135      0.892 [-1.532e-03,1.760e-03]\n",
      "                              Volatility Model                              \n",
      "============================================================================\n",
      "                 coef    std err          t      P>|t|      95.0% Conf. Int.\n",
      "----------------------------------------------------------------------------\n",
      "omega      1.7964e-05  1.970e-11  9.119e+05      0.000 [1.796e-05,1.796e-05]\n",
      "alpha[1]       0.9000  8.250e-02     10.909  1.042e-27     [  0.738,  1.062]\n",
      "============================================================================\n",
      "\n",
      "Covariance estimator: robust\n",
      "WARNING: The optimizer did not indicate successful convergence. The message was Inequality constraints incompatible.\n",
      "See convergence_flag.\n",
      "\n",
      "ARCHModelResult, id: 0x216a8068470>\n"
     ]
    },
    {
     "name": "stderr",
     "output_type": "stream",
     "text": [
      "c:\\Users\\Inv_edg\\AppData\\Local\\Programs\\Python\\Python312\\Lib\\site-packages\\arch\\univariate\\base.py:311: DataScaleWarning: y is poorly scaled, which may affect convergence of the optimizer when\n",
      "estimating the model parameters. The scale of y is 0.0001796. Parameter\n",
      "estimation work better when this value is between 1 and 1000. The recommended\n",
      "rescaling is 100 * y.\n",
      "\n",
      "This warning can be disabled by either rescaling y before initializing the\n",
      "model or by setting rescale=False.\n",
      "\n",
      "  warnings.warn(\n",
      "c:\\Users\\Inv_edg\\AppData\\Local\\Programs\\Python\\Python312\\Lib\\site-packages\\arch\\univariate\\base.py:766: ConvergenceWarning: The optimizer returned code 4. The message is:\n",
      "Inequality constraints incompatible\n",
      "See scipy.optimize.fmin_slsqp for code meaning.\n",
      "\n",
      "  warnings.warn(\n"
     ]
    }
   ],
   "source": [
    "harch_model_fit = arch_model(returns_train,vol='Harch').fit(disp='off')\n",
    "print(harch_model_fit.summary)"
   ]
  },
  {
   "cell_type": "markdown",
   "metadata": {},
   "source": [
    "Realized Volatility"
   ]
  },
  {
   "cell_type": "code",
   "execution_count": 10,
   "metadata": {},
   "outputs": [],
   "source": [
    "realized_volatility = np.log(df['high']/df['low'])\n",
    "realized_volatility = realized_volatility.iloc[1:]\n",
    "realized_volatility = realized_volatility\n",
    "realized_volatility_train, realized_volatility_test= realized_volatility[:-120], realized_volatility[-120:]"
   ]
  },
  {
   "cell_type": "markdown",
   "metadata": {},
   "source": [
    "Fixed-Window Forecast"
   ]
  },
  {
   "cell_type": "code",
   "execution_count": 11,
   "metadata": {},
   "outputs": [],
   "source": [
    "garch_forecast = garch_model_fit.forecast(horizon=len(returns_test),method='analytic')\n",
    "arch_forecast = arch_model_fit.forecast(horizon=len(returns_test),method='analytic')\n",
    "gjr_garch_forecast = gjr_garch_model_fit.forecast(horizon=len(returns_test),method='analytic')\n",
    "harch_forecast = harch_model_fit.forecast(horizon=len(returns_test),method='analytic')"
   ]
  },
  {
   "cell_type": "markdown",
   "metadata": {},
   "source": [
    "Estimation Result"
   ]
  },
  {
   "cell_type": "code",
   "execution_count": 12,
   "metadata": {},
   "outputs": [],
   "source": [
    "from sklearn.metrics import mean_squared_error, mean_absolute_error, mean_absolute_percentage_error\n",
    "\n",
    "garch_mse = mean_squared_error(realized_volatility_test,np.sqrt(garch_forecast.variance.values[-1,:]))\n",
    "arch_mse = mean_squared_error(realized_volatility_test,np.sqrt(arch_forecast.variance.values[-1,:]))\n",
    "gjr_garch_mse = mean_squared_error(realized_volatility_test,np.sqrt(gjr_garch_forecast.variance.values[-1,:]))\n",
    "harch_mse = mean_squared_error(realized_volatility_test,np.sqrt(harch_forecast.variance.values[-1,:]))\n",
    "mse = [garch_mse,arch_mse,gjr_garch_mse,harch_mse]\n",
    "\n",
    "garch_rmse = np.sqrt(garch_mse)\n",
    "arch_rmse = np.sqrt(arch_mse)\n",
    "gjr_garch_rmse = np.sqrt(gjr_garch_mse)\n",
    "harch_rmse = np.sqrt(harch_mse)\n",
    "rmse = [garch_rmse,arch_rmse,gjr_garch_rmse,harch_rmse]\n",
    "\n",
    "garch_mae = mean_absolute_error(realized_volatility_test,np.sqrt(garch_forecast.variance.values[-1,:]))\n",
    "arch_mae = mean_absolute_error(realized_volatility_test,np.sqrt(arch_forecast.variance.values[-1,:]))\n",
    "gjr_garch_mae = mean_absolute_error(realized_volatility_test,np.sqrt(gjr_garch_forecast.variance.values[-1,:]))\n",
    "harch_mae = mean_absolute_error(realized_volatility_test,np.sqrt(harch_forecast.variance.values[-1,:]))\n",
    "mae = [garch_mae,arch_mae,gjr_garch_mae,harch_mae]\n",
    "\n",
    "garch_mape = mean_absolute_percentage_error(realized_volatility_test,np.sqrt(garch_forecast.variance.values[-1,:]))\n",
    "arch_mape = mean_absolute_percentage_error(realized_volatility_test,np.sqrt(arch_forecast.variance.values[-1,:]))\n",
    "gjr_garch_mape = mean_absolute_percentage_error(realized_volatility_test,np.sqrt(gjr_garch_forecast.variance.values[-1,:]))\n",
    "harch_mape = mean_absolute_percentage_error(realized_volatility_test,np.sqrt(harch_forecast.variance.values[-1,:]))\n",
    "mape = [garch_mape,arch_mape,gjr_garch_mape,harch_mape]"
   ]
  },
  {
   "cell_type": "code",
   "execution_count": 13,
   "metadata": {},
   "outputs": [
    {
     "data": {
      "text/html": [
       "<div>\n",
       "<style scoped>\n",
       "    .dataframe tbody tr th:only-of-type {\n",
       "        vertical-align: middle;\n",
       "    }\n",
       "\n",
       "    .dataframe tbody tr th {\n",
       "        vertical-align: top;\n",
       "    }\n",
       "\n",
       "    .dataframe thead th {\n",
       "        text-align: right;\n",
       "    }\n",
       "</style>\n",
       "<table border=\"1\" class=\"dataframe\">\n",
       "  <thead>\n",
       "    <tr style=\"text-align: right;\">\n",
       "      <th></th>\n",
       "      <th>Model</th>\n",
       "      <th>MSE</th>\n",
       "      <th>RMSE</th>\n",
       "      <th>MAE</th>\n",
       "      <th>MAPE</th>\n",
       "    </tr>\n",
       "  </thead>\n",
       "  <tbody>\n",
       "    <tr>\n",
       "      <th>0</th>\n",
       "      <td>GARCH</td>\n",
       "      <td>0.000018</td>\n",
       "      <td>0.004283</td>\n",
       "      <td>0.003667</td>\n",
       "      <td>0.437463</td>\n",
       "    </tr>\n",
       "    <tr>\n",
       "      <th>1</th>\n",
       "      <td>ARCH</td>\n",
       "      <td>0.000020</td>\n",
       "      <td>0.004445</td>\n",
       "      <td>0.003848</td>\n",
       "      <td>0.463187</td>\n",
       "    </tr>\n",
       "    <tr>\n",
       "      <th>2</th>\n",
       "      <td>GJR</td>\n",
       "      <td>0.000021</td>\n",
       "      <td>0.004584</td>\n",
       "      <td>0.004013</td>\n",
       "      <td>0.480025</td>\n",
       "    </tr>\n",
       "    <tr>\n",
       "      <th>3</th>\n",
       "      <td>HARCH</td>\n",
       "      <td>0.000024</td>\n",
       "      <td>0.004864</td>\n",
       "      <td>0.004304</td>\n",
       "      <td>0.506814</td>\n",
       "    </tr>\n",
       "  </tbody>\n",
       "</table>\n",
       "</div>"
      ],
      "text/plain": [
       "   Model       MSE      RMSE       MAE      MAPE\n",
       "0  GARCH  0.000018  0.004283  0.003667  0.437463\n",
       "1   ARCH  0.000020  0.004445  0.003848  0.463187\n",
       "2    GJR  0.000021  0.004584  0.004013  0.480025\n",
       "3  HARCH  0.000024  0.004864  0.004304  0.506814"
      ]
     },
     "execution_count": 13,
     "metadata": {},
     "output_type": "execute_result"
    }
   ],
   "source": [
    "model = ['GARCH','ARCH','GJR','HARCH']\n",
    "conclu = pd.DataFrame(model, columns=['Model'])\n",
    "conclu['MSE'] = mse\n",
    "conclu['RMSE'] = rmse\n",
    "conclu['MAE'] = mae\n",
    "conclu['MAPE'] = mape\n",
    "conclu"
   ]
  },
  {
   "cell_type": "markdown",
   "metadata": {},
   "source": [
    "Fit entire dataset with the best model"
   ]
  },
  {
   "cell_type": "code",
   "execution_count": 14,
   "metadata": {},
   "outputs": [
    {
     "name": "stdout",
     "output_type": "stream",
     "text": [
      "<bound method ARCHModelResult.summary of                      Constant Mean - GARCH Model Results                      \n",
      "==============================================================================\n",
      "Dep. Variable:                  close   R-squared:                       0.000\n",
      "Mean Model:             Constant Mean   Adj. R-squared:                  0.000\n",
      "Vol Model:                      GARCH   Log-Likelihood:                13896.3\n",
      "Distribution:                  Normal   AIC:                          -27784.5\n",
      "Method:            Maximum Likelihood   BIC:                          -27758.9\n",
      "                                        No. Observations:                 4499\n",
      "Date:                Wed, Apr 24 2024   Df Residuals:                     4498\n",
      "Time:                        16:35:39   Df Model:                            1\n",
      "                                 Mean Model                                 \n",
      "============================================================================\n",
      "                 coef    std err          t      P>|t|      95.0% Conf. Int.\n",
      "----------------------------------------------------------------------------\n",
      "mu         4.2113e-04  1.373e-05     30.668 1.535e-206 [3.942e-04,4.480e-04]\n",
      "                              Volatility Model                              \n",
      "============================================================================\n",
      "                 coef    std err          t      P>|t|      95.0% Conf. Int.\n",
      "----------------------------------------------------------------------------\n",
      "omega      3.5289e-06  1.101e-11  3.205e+05      0.000 [3.529e-06,3.529e-06]\n",
      "alpha[1]       0.1000  1.548e-02      6.458  1.058e-10   [6.965e-02,  0.130]\n",
      "beta[1]        0.8800  2.048e-02     42.969      0.000     [  0.840,  0.920]\n",
      "============================================================================\n",
      "\n",
      "Covariance estimator: robust\n",
      "ARCHModelResult, id: 0x216ade19e50>\n"
     ]
    },
    {
     "name": "stderr",
     "output_type": "stream",
     "text": [
      "c:\\Users\\Inv_edg\\AppData\\Local\\Programs\\Python\\Python312\\Lib\\site-packages\\arch\\univariate\\base.py:311: DataScaleWarning: y is poorly scaled, which may affect convergence of the optimizer when\n",
      "estimating the model parameters. The scale of y is 0.0001764. Parameter\n",
      "estimation work better when this value is between 1 and 1000. The recommended\n",
      "rescaling is 100 * y.\n",
      "\n",
      "This warning can be disabled by either rescaling y before initializing the\n",
      "model or by setting rescale=False.\n",
      "\n",
      "  warnings.warn(\n"
     ]
    }
   ],
   "source": [
    "forecast_model_fit = arch_model(returns,vol=\"Garch\",p=1,q=1).fit(disp='off')\n",
    "print(forecast_model_fit.summary)"
   ]
  },
  {
   "cell_type": "code",
   "execution_count": 15,
   "metadata": {},
   "outputs": [
    {
     "data": {
      "image/png": "[encoded data removed]",
      "text/plain": [
       "<Figure size 1600x600 with 1 Axes>"
      ]
     },
     "metadata": {},
     "output_type": "display_data"
    }
   ],
   "source": [
    "forecast = forecast_model_fit.forecast(horizon=120,method='analytic')\n",
    "volf = forecast.variance.values.flatten()\n",
    "import matplotlib.pyplot as plt\n",
    "plt.figure(figsize=(16,6))\n",
    "plt.plot(volf, label=\"Forecast Volatility\")\n",
    "plt.xlabel(\"Time\")\n",
    "plt.ylabel(\"Volatility\")\n",
    "plt.legend()\n",
    "plt.show()"
   ]
  },
  {
   "cell_type": "code",
   "execution_count": 16,
   "metadata": {},
   "outputs": [
    {
     "data": {
      "text/plain": [
       "array([0.00013921, 0.00013996, 0.00014069, 0.0001414 , 0.0001421 ,\n",
       "       0.00014279, 0.00014346, 0.00014412, 0.00014477, 0.0001454 ,\n",
       "       0.00014602, 0.00014663, 0.00014723, 0.00014781, 0.00014839,\n",
       "       0.00014895, 0.0001495 , 0.00015004, 0.00015056, 0.00015108,\n",
       "       0.00015159, 0.00015209, 0.00015257, 0.00015305, 0.00015352,\n",
       "       0.00015398, 0.00015443, 0.00015487, 0.0001553 , 0.00015572,\n",
       "       0.00015614, 0.00015654, 0.00015694, 0.00015733, 0.00015771,\n",
       "       0.00015809, 0.00015845, 0.00015881, 0.00015917, 0.00015951,\n",
       "       0.00015985, 0.00016018, 0.00016051, 0.00016083, 0.00016114,\n",
       "       0.00016144, 0.00016174, 0.00016204, 0.00016233, 0.00016261,\n",
       "       0.00016289, 0.00016316, 0.00016342, 0.00016368, 0.00016394,\n",
       "       0.00016419, 0.00016443, 0.00016467, 0.00016491, 0.00016514,\n",
       "       0.00016537, 0.00016559, 0.0001658 , 0.00016602, 0.00016623,\n",
       "       0.00016643, 0.00016663, 0.00016683, 0.00016702, 0.00016721,\n",
       "       0.00016739, 0.00016757, 0.00016775, 0.00016792, 0.00016809,\n",
       "       0.00016826, 0.00016843, 0.00016859, 0.00016874, 0.0001689 ,\n",
       "       0.00016905, 0.0001692 , 0.00016934, 0.00016948, 0.00016962,\n",
       "       0.00016976, 0.00016989, 0.00017002, 0.00017015, 0.00017028,\n",
       "       0.0001704 , 0.00017052, 0.00017064, 0.00017076, 0.00017087,\n",
       "       0.00017098, 0.00017109, 0.0001712 , 0.0001713 , 0.0001714 ,\n",
       "       0.00017151, 0.0001716 , 0.0001717 , 0.0001718 , 0.00017189,\n",
       "       0.00017198, 0.00017207, 0.00017216, 0.00017224, 0.00017233,\n",
       "       0.00017241, 0.00017249, 0.00017257, 0.00017265, 0.00017272,\n",
       "       0.0001728 , 0.00017287, 0.00017294, 0.00017301, 0.00017308])"
      ]
     },
     "execution_count": 16,
     "metadata": {},
     "output_type": "execute_result"
    }
   ],
   "source": [
    "volf"
   ]
  }
 ],
 "metadata": {
  "kernelspec": {
   "display_name": "Python 3",
   "language": "python",
   "name": "python3"
  },
  "language_info": {
   "codemirror_mode": {
    "name": "ipython",
    "version": 3
   },
   "file_extension": ".py",
   "mimetype": "text/x-python",
   "name": "python",
   "nbconvert_exporter": "python",
   "pygments_lexer": "ipython3",
   "version": "3.12.3"
  }
 },
 "nbformat": 4,
 "nbformat_minor": 2
}
