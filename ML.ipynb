{
 "cells": [
  {
   "cell_type": "code",
   "execution_count": 142,
   "metadata": {},
   "outputs": [],
   "source": [
    "from tvDatafeed import TvDatafeed, Interval\n",
    "import pandas as pd\n",
    "import numpy as np\n",
    "from math import sqrt"
   ]
  },
  {
   "cell_type": "markdown",
   "metadata": {},
   "source": [
    "Load Data"
   ]
  },
  {
   "cell_type": "code",
   "execution_count": 143,
   "metadata": {},
   "outputs": [
    {
     "name": "stderr",
     "output_type": "stream",
     "text": [
      "WARNING:tvDatafeed.main:you are using nologin method, data you access may be limited\n"
     ]
    }
   ],
   "source": [
    "tv = TvDatafeed()\n",
    "\n",
    "df = tv.get_hist(symbol='SET:SET50', exchange='SET', interval=Interval.in_daily, n_bars=4500)"
   ]
  },
  {
   "cell_type": "markdown",
   "metadata": {},
   "source": [
    "Unit Root Test"
   ]
  },
  {
   "cell_type": "code",
   "execution_count": 144,
   "metadata": {},
   "outputs": [
    {
     "name": "stdout",
     "output_type": "stream",
     "text": [
      "0.41326875605329966\n"
     ]
    }
   ],
   "source": [
    "from statsmodels.tsa.stattools import adfuller\n",
    "result = adfuller(df['close'], autolag='BIC')\n",
    "print(result[1])"
   ]
  },
  {
   "cell_type": "code",
   "execution_count": 145,
   "metadata": {},
   "outputs": [
    {
     "name": "stdout",
     "output_type": "stream",
     "text": [
      "{'1%': -3.431804978127318, '5%': -2.862182927172891, '10%': -2.567112233631009}\n",
      "-45.81071831655749\n",
      "0.0\n"
     ]
    }
   ],
   "source": [
    "returns = np.log(df['close']).diff().dropna() #1st difference\n",
    "\n",
    "result = adfuller(returns, autolag='BIC')\n",
    "print(result[4])\n",
    "print(result[0])\n",
    "print(result[1])"
   ]
  },
  {
   "cell_type": "markdown",
   "metadata": {},
   "source": [
    "Train-Test Split"
   ]
  },
  {
   "cell_type": "code",
   "execution_count": 146,
   "metadata": {},
   "outputs": [],
   "source": [
    "train = int(len(returns)*0.8)\n",
    "returns_train, returns_test= returns[:train], returns[train:]"
   ]
  },
  {
   "cell_type": "markdown",
   "metadata": {},
   "source": [
    "Methods tried"
   ]
  },
  {
   "cell_type": "code",
   "execution_count": 167,
   "metadata": {},
   "outputs": [
    {
     "name": "stdout",
     "output_type": "stream",
     "text": [
      "<bound method ARCHModelResult.summary of                      Constant Mean - GARCH Model Results                      \n",
      "==============================================================================\n",
      "Dep. Variable:                  close   R-squared:                       0.000\n",
      "Mean Model:             Constant Mean   Adj. R-squared:                  0.000\n",
      "Vol Model:                      GARCH   Log-Likelihood:                10884.7\n",
      "Distribution:                  Normal   AIC:                          -21761.4\n",
      "Method:            Maximum Likelihood   BIC:                          -21736.7\n",
      "                                        No. Observations:                 3599\n",
      "Date:                Tue, Apr 23 2024   Df Residuals:                     3598\n",
      "Time:                        15:46:56   Df Model:                            1\n",
      "                                 Mean Model                                 \n",
      "============================================================================\n",
      "                 coef    std err          t      P>|t|      95.0% Conf. Int.\n",
      "----------------------------------------------------------------------------\n",
      "mu         6.3743e-04  1.315e-06    484.644      0.000 [6.349e-04,6.400e-04]\n",
      "                              Volatility Model                              \n",
      "============================================================================\n",
      "                 coef    std err          t      P>|t|      95.0% Conf. Int.\n",
      "----------------------------------------------------------------------------\n",
      "omega      4.0125e-06  1.491e-12  2.692e+06      0.000 [4.012e-06,4.012e-06]\n",
      "alpha[1]       0.1000  1.918e-02      5.214  1.848e-07   [6.241e-02,  0.138]\n",
      "beta[1]        0.8800  2.517e-02     34.967 7.074e-268     [  0.831,  0.929]\n",
      "============================================================================\n",
      "\n",
      "Covariance estimator: robust\n",
      "ARCHModelResult, id: 0x1b446705e20>\n"
     ]
    },
    {
     "name": "stderr",
     "output_type": "stream",
     "text": [
      "c:\\Users\\Inv_edg\\AppData\\Local\\Programs\\Python\\Python312\\Lib\\site-packages\\arch\\univariate\\base.py:311: DataScaleWarning: y is poorly scaled, which may affect convergence of the optimizer when\n",
      "estimating the model parameters. The scale of y is 0.0002006. Parameter\n",
      "estimation work better when this value is between 1 and 1000. The recommended\n",
      "rescaling is 100 * y.\n",
      "\n",
      "This warning can be disabled by either rescaling y before initializing the\n",
      "model or by setting rescale=False.\n",
      "\n",
      "  warnings.warn(\n"
     ]
    }
   ],
   "source": [
    "from arch import arch_model\n",
    "garch_model_fit = arch_model(returns_train,vol=\"Garch\",p=1,q=1).fit(disp='off')\n",
    "garch_forecast = garch_model_fit.forecast(horizon=len(returns_test))\n",
    "print(garch_model_fit.summary)"
   ]
  },
  {
   "cell_type": "code",
   "execution_count": 168,
   "metadata": {},
   "outputs": [
    {
     "name": "stdout",
     "output_type": "stream",
     "text": [
      "<bound method ARCHModelResult.summary of                       Constant Mean - ARCH Model Results                      \n",
      "==============================================================================\n",
      "Dep. Variable:                  close   R-squared:                       0.000\n",
      "Mean Model:             Constant Mean   Adj. R-squared:                  0.000\n",
      "Vol Model:                       ARCH   Log-Likelihood:                10506.7\n",
      "Distribution:                  Normal   AIC:                          -21007.5\n",
      "Method:            Maximum Likelihood   BIC:                          -20988.9\n",
      "                                        No. Observations:                 3599\n",
      "Date:                Tue, Apr 23 2024   Df Residuals:                     3598\n",
      "Time:                        15:46:59   Df Model:                            1\n",
      "                                 Mean Model                                 \n",
      "============================================================================\n",
      "                 coef    std err          t      P>|t|      95.0% Conf. Int.\n",
      "----------------------------------------------------------------------------\n",
      "mu         5.5049e-04  2.608e-04      2.111  3.479e-02 [3.933e-05,1.062e-03]\n",
      "                              Volatility Model                              \n",
      "============================================================================\n",
      "                 coef    std err          t      P>|t|      95.0% Conf. Int.\n",
      "----------------------------------------------------------------------------\n",
      "omega      1.2037e-04  8.764e-06     13.735  6.288e-43 [1.032e-04,1.376e-04]\n",
      "alpha[1]       0.4000  7.851e-02      5.095  3.492e-07     [  0.246,  0.554]\n",
      "============================================================================\n",
      "\n",
      "Covariance estimator: robust\n",
      "ARCHModelResult, id: 0x1b444d6ea20>\n"
     ]
    },
    {
     "name": "stderr",
     "output_type": "stream",
     "text": [
      "c:\\Users\\Inv_edg\\AppData\\Local\\Programs\\Python\\Python312\\Lib\\site-packages\\arch\\univariate\\base.py:311: DataScaleWarning: y is poorly scaled, which may affect convergence of the optimizer when\n",
      "estimating the model parameters. The scale of y is 0.0002006. Parameter\n",
      "estimation work better when this value is between 1 and 1000. The recommended\n",
      "rescaling is 100 * y.\n",
      "\n",
      "This warning can be disabled by either rescaling y before initializing the\n",
      "model or by setting rescale=False.\n",
      "\n",
      "  warnings.warn(\n"
     ]
    }
   ],
   "source": [
    "arch_model_fit = arch_model(returns_train,vol=\"ARCH\").fit(disp='off')\n",
    "arch_forecast = arch_model_fit.forecast(horizon=len(returns_test))\n",
    "print(arch_model_fit.summary)"
   ]
  },
  {
   "cell_type": "code",
   "execution_count": 190,
   "metadata": {},
   "outputs": [
    {
     "name": "stdout",
     "output_type": "stream",
     "text": [
      "0.016704474237664295 0.016765611370885912\n"
     ]
    },
    {
     "data": {
      "text/plain": [
       "0.01328414376938483"
      ]
     },
     "execution_count": 190,
     "metadata": {},
     "output_type": "execute_result"
    }
   ],
   "source": [
    "from sklearn.metrics import mean_squared_error\n",
    "\n",
    "garch_rmse = np.sqrt(mean_squared_error(returns_test,np.sqrt(garch_forecast.variance.values[-1,:])))\n",
    "arch_rmse = np.sqrt(mean_squared_error(returns_test,np.sqrt(arch_forecast.variance.values[-1,:])))\n",
    "print(garch_rmse,arch_rmse)\n",
    "\n",
    "#v_garch = garch_model_fit.conditional_volatility[-len(returns_test):]\n",
    "#print(returns_test - garch_forecast.variance.values[-1,:])\n",
    "#print(garch_forecast.variance.values[-1,:])\n",
    "#v_garch"
   ]
  },
  {
   "cell_type": "code",
   "execution_count": 185,
   "metadata": {},
   "outputs": [
    {
     "name": "stdout",
     "output_type": "stream",
     "text": [
      "Iteration:      1,   Func. Count:      6,   Neg. LLF: 5885975926867.78\n",
      "Iteration:      2,   Func. Count:     19,   Neg. LLF: 26963298663.559288\n",
      "Iteration:      3,   Func. Count:     33,   Neg. LLF: 47407147682.045296\n",
      "Optimization terminated successfully    (Exit mode 0)\n",
      "            Current function value: -10884.71995463948\n",
      "            Iterations: 3\n",
      "            Function evaluations: 43\n",
      "            Gradient evaluations: 3\n"
     ]
    },
    {
     "name": "stderr",
     "output_type": "stream",
     "text": [
      "c:\\Users\\Inv_edg\\AppData\\Local\\Programs\\Python\\Python312\\Lib\\site-packages\\arch\\univariate\\base.py:311: DataScaleWarning: y is poorly scaled, which may affect convergence of the optimizer when\n",
      "estimating the model parameters. The scale of y is 0.0002006. Parameter\n",
      "estimation work better when this value is between 1 and 1000. The recommended\n",
      "rescaling is 100 * y.\n",
      "\n",
      "This warning can be disabled by either rescaling y before initializing the\n",
      "model or by setting rescale=False.\n",
      "\n",
      "  warnings.warn(\n"
     ]
    }
   ],
   "source": [
    "from arch import arch_model\n",
    "\n",
    "model = arch_model(returns_train,vol=\"Garch\",p=1,q=1)\n",
    "results = model.fit()\n",
    "\n",
    "forecast = 252\n",
    "\n",
    "volatility = results.conditional_volatility"
   ]
  },
  {
   "cell_type": "code",
   "execution_count": null,
   "metadata": {},
   "outputs": [
    {
     "data": {
      "image/png": "[encoded data removed]",
      "text/plain": [
       "<Figure size 1800x600 with 1 Axes>"
      ]
     },
     "metadata": {},
     "output_type": "display_data"
    }
   ],
   "source": [
    "forecast = results.forecast(horizon=126)\n",
    "forecast_vol = forecast.variance.dropna().values.flatten()\n",
    "\n",
    "plt.figure(figsize = (18,6))\n",
    "plt.plot(forecast_vol, label=\"Forecasted\")\n",
    "plt.show()"
   ]
  },
  {
   "cell_type": "code",
   "execution_count": null,
   "metadata": {},
   "outputs": [
    {
     "name": "stdout",
     "output_type": "stream",
     "text": [
      "0.018652465045168116\n"
     ]
    }
   ],
   "source": [
    "rmse = np.sqrt(np.mean((volatility - returns)**2))\n",
    "print(rmse)"
   ]
  },
  {
   "cell_type": "code",
   "execution_count": null,
   "metadata": {},
   "outputs": [
    {
     "data": {
      "image/png": "[encoded data removed]",
      "text/plain": [
       "<Figure size 1000x600 with 1 Axes>"
      ]
     },
     "metadata": {},
     "output_type": "display_data"
    }
   ],
   "source": [
    "error = volatility - returns\n",
    "plt.figure(figsize=(10, 6))\n",
    "plt.hist(error,bins=30,density=True)\n",
    "plt.show()"
   ]
  },
  {
   "cell_type": "code",
   "execution_count": null,
   "metadata": {},
   "outputs": [],
   "source": []
  }
 ],
 "metadata": {
  "kernelspec": {
   "display_name": "Python 3",
   "language": "python",
   "name": "python3"
  },
  "language_info": {
   "codemirror_mode": {
    "name": "ipython",
    "version": 3
   },
   "file_extension": ".py",
   "mimetype": "text/x-python",
   "name": "python",
   "nbconvert_exporter": "python",
   "pygments_lexer": "ipython3",
   "version": "3.12.3"
  }
 },
 "nbformat": 4,
 "nbformat_minor": 2
}
